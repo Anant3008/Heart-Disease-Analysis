{
 "cells": [
  {
   "cell_type": "code",
   "execution_count": 1,
   "id": "83dcbf06",
   "metadata": {},
   "outputs": [],
   "source": [
    "from scipy.stats import chi2_contingency\n",
    "import pandas as pd"
   ]
  },
  {
   "cell_type": "code",
   "execution_count": 3,
   "id": "87ae782e",
   "metadata": {},
   "outputs": [],
   "source": [
    "df=pd.read_csv(\"../data/processed/processed_heart_disease.csv\")"
   ]
  },
  {
   "cell_type": "code",
   "execution_count": 4,
   "id": "4b9ecedb",
   "metadata": {},
   "outputs": [
    {
     "name": "stdout",
     "output_type": "stream",
     "text": [
      "--- Contingency Table ---\n",
      "Heart Disease Status     0    1\n",
      "Family Heart Disease           \n",
      "0                     3810  976\n",
      "1                     3811  935\n",
      "\n",
      "==============================\n",
      "\n"
     ]
    }
   ],
   "source": [
    "contingency_table = pd.crosstab(df['Family Heart Disease'], df['Heart Disease Status'])\n",
    "print(\"--- Contingency Table ---\")\n",
    "print(contingency_table)\n",
    "print(\"\\n\" + \"=\"*30 + \"\\n\")"
   ]
  },
  {
   "cell_type": "code",
   "execution_count": 7,
   "id": "dcf45f1f",
   "metadata": {},
   "outputs": [
    {
     "name": "stdout",
     "output_type": "stream",
     "text": [
      "--- Test Results ---\n",
      "Chi-Square Statistic: 0.6694\n",
      "P-value: 0.4133\n"
     ]
    }
   ],
   "source": [
    "chi2_stat, p_value, dof, expected = chi2_contingency(contingency_table)\n",
    "print(\"--- Test Results ---\")\n",
    "print(f\"Chi-Square Statistic: {chi2_stat:.4f}\")\n",
    "print(f\"P-value: {p_value:.4f}\")"
   ]
  },
  {
   "cell_type": "code",
   "execution_count": 8,
   "id": "dbeb426f",
   "metadata": {},
   "outputs": [
    {
     "name": "stdout",
     "output_type": "stream",
     "text": [
      "Significance Level (alpha): 0.05\n",
      "\n",
      "Conclusion: We FAIL TO REJECT the null hypothesis.\n",
      "There is NO statistically significant association between family history and heart disease status.\n"
     ]
    }
   ],
   "source": [
    "alpha = 0.05\n",
    "print(f\"Significance Level (alpha): {alpha}\\n\")\n",
    "\n",
    "if p_value < alpha:\n",
    "    print(\"Conclusion: We REJECT the null hypothesis.\")\n",
    "    print(\"There IS a statistically significant association between family history and heart disease status.\")\n",
    "else:\n",
    "    print(\"Conclusion: We FAIL TO REJECT the null hypothesis.\")\n",
    "    print(\"There is NO statistically significant association between family history and heart disease status.\")\n"
   ]
  }
 ],
 "metadata": {
  "kernelspec": {
   "display_name": "heart-disease-analysis (3.11.9)",
   "language": "python",
   "name": "python3"
  },
  "language_info": {
   "codemirror_mode": {
    "name": "ipython",
    "version": 3
   },
   "file_extension": ".py",
   "mimetype": "text/x-python",
   "name": "python",
   "nbconvert_exporter": "python",
   "pygments_lexer": "ipython3",
   "version": "3.11.9"
  }
 },
 "nbformat": 4,
 "nbformat_minor": 5
}
